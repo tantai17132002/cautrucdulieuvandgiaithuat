{
  "nbformat": 4,
  "nbformat_minor": 0,
  "metadata": {
    "colab": {
      "name": "BT01: Tháp Hà Nội.ipynb",
      "provenance": [],
      "authorship_tag": "ABX9TyNRvnkXa5itaqDwcChhQAAI",
      "include_colab_link": true
    },
    "kernelspec": {
      "name": "python3",
      "display_name": "Python 3"
    },
    "language_info": {
      "name": "python"
    }
  },
  "cells": [
    {
      "cell_type": "markdown",
      "metadata": {
        "id": "view-in-github",
        "colab_type": "text"
      },
      "source": [
        "<a href=\"https://colab.research.google.com/github/tantai17132002/cautrucdulieuvandgiaithuat/blob/main/BT01_Th%C3%A1p_H%C3%A0_N%E1%BB%99i.ipynb\" target=\"_parent\"><img src=\"https://colab.research.google.com/assets/colab-badge.svg\" alt=\"Open In Colab\"/></a>"
      ]
    },
    {
      "cell_type": "code",
      "metadata": {
        "id": "4LClPOKtoXWE"
      },
      "source": [
        "def thapHaNoi(n, ToaMot, ToaHai, ToaBa):\n",
        "\n",
        "    if n == 1:\n",
        "        print(\"Chuyen tu\", ToaMot, \"sang\", ToaBa)\n",
        "    else:\n",
        "        thapHaNoi(n-1, ToaMot, ToaBa, ToaHai)\n",
        "        print(\"Chuyen tu\", ToaMot, \"sang\", ToaBa)\n",
        "        thapHaNoi(n-1, ToaHai, ToaMot, ToaBa)\n",
        "\n",
        "thapHaNoi(2,'A','B','C')"
      ],
      "execution_count": null,
      "outputs": []
    }
  ]
}