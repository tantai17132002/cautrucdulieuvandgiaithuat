{
  "nbformat": 4,
  "nbformat_minor": 0,
  "metadata": {
    "colab": {
      "name": "BT10 + BT11: Cài đặt cây - duyệt cây theo thứ tự trước và sau.ipynb",
      "provenance": [],
      "authorship_tag": "ABX9TyMbPIf2V2uXHddoVjozZO4E",
      "include_colab_link": true
    },
    "kernelspec": {
      "name": "python3",
      "display_name": "Python 3"
    },
    "language_info": {
      "name": "python"
    }
  },
  "cells": [
    {
      "cell_type": "markdown",
      "metadata": {
        "id": "view-in-github",
        "colab_type": "text"
      },
      "source": [
        "<a href=\"https://colab.research.google.com/github/tantai17132002/cautrucdulieuvandgiaithuat/blob/main/BT10_%2B_BT11_C%C3%A0i_%C4%91%E1%BA%B7t_c%C3%A2y_duy%E1%BB%87t_c%C3%A2y_theo_th%E1%BB%A9_t%E1%BB%B1_tr%C6%B0%E1%BB%9Bc_v%C3%A0_sau.ipynb\" target=\"_parent\"><img src=\"https://colab.research.google.com/assets/colab-badge.svg\" alt=\"Open In Colab\"/></a>"
      ]
    },
    {
      "cell_type": "code",
      "metadata": {
        "id": "GbBLzqnJz3YV"
      },
      "source": [
        "from binarytree import build\n",
        "values = [7, 3, 2, 6, 9, None, 1, 5, 8]\n",
        "root = build(values)\n",
        "print(root)\n",
        "print(root.preorder) # duyệt cây theo thứ tự trước\n",
        "print(root.postorder) # duyệt cây theo thứ tự sau"
      ],
      "execution_count": null,
      "outputs": []
    }
  ]
}