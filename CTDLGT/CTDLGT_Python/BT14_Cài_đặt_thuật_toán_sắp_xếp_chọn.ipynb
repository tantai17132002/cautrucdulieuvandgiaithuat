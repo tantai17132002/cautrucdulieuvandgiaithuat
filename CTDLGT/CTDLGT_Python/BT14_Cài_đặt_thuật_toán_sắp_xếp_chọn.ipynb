{
  "nbformat": 4,
  "nbformat_minor": 0,
  "metadata": {
    "colab": {
      "name": "BT14: Cài đặt thuật toán sắp xếp chọn.ipynb",
      "provenance": [],
      "authorship_tag": "ABX9TyNxlKOgnqL4tdUjaO6/wU4/",
      "include_colab_link": true
    },
    "kernelspec": {
      "name": "python3",
      "display_name": "Python 3"
    },
    "language_info": {
      "name": "python"
    }
  },
  "cells": [
    {
      "cell_type": "markdown",
      "metadata": {
        "id": "view-in-github",
        "colab_type": "text"
      },
      "source": [
        "<a href=\"https://colab.research.google.com/github/tantai17132002/cautrucdulieuvandgiaithuat/blob/main/CTDLGT/CTDLGT_Python/BT14_C%C3%A0i_%C4%91%E1%BA%B7t_thu%E1%BA%ADt_to%C3%A1n_s%E1%BA%AFp_x%E1%BA%BFp_ch%E1%BB%8Dn.ipynb\" target=\"_parent\"><img src=\"https://colab.research.google.com/assets/colab-badge.svg\" alt=\"Open In Colab\"/></a>"
      ]
    },
    {
      "cell_type": "code",
      "metadata": {
        "id": "cZsecixX1nix",
        "outputId": "eb67abf9-04e2-4916-facc-1bff52727f7b",
        "colab": {
          "base_uri": "https://localhost:8080/"
        }
      },
      "source": [
        "def selection_sort(nums):\n",
        "    # This value of i corresponds to how many values were sorted\n",
        "    for i in range(len(nums)):\n",
        "        # We assume that the first item of the unsorted segment is the smallest\n",
        "        lowest_value_index = i\n",
        "        # This loop iterates over the unsorted items\n",
        "        for j in range(i + 1, len(nums)):\n",
        "            if nums[j] < nums[lowest_value_index]:\n",
        "                lowest_value_index = j\n",
        "        # Swap values of the lowest unsorted element with the first unsorted\n",
        "        # element\n",
        "        nums[i], nums[lowest_value_index] = nums[lowest_value_index], nums[i]\n",
        "\n",
        "\n",
        "# Verify it works\n",
        "random_list_of_nums = [12, 8, 3, 20, 11]\n",
        "selection_sort(random_list_of_nums)\n",
        "print(random_list_of_nums)  "
      ],
      "execution_count": 1,
      "outputs": [
        {
          "output_type": "stream",
          "text": [
            "[3, 8, 11, 12, 20]\n"
          ],
          "name": "stdout"
        }
      ]
    }
  ]
}