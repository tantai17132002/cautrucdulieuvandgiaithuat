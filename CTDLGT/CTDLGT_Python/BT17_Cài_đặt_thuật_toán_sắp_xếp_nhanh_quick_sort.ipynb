{
  "nbformat": 4,
  "nbformat_minor": 0,
  "metadata": {
    "colab": {
      "name": "BT17: Cài đặt thuật toán sắp xếp nhanh - quick sort.ipynb",
      "provenance": [],
      "authorship_tag": "ABX9TyP0hFQtgrqMp3r+8Odjv2M6",
      "include_colab_link": true
    },
    "kernelspec": {
      "name": "python3",
      "display_name": "Python 3"
    },
    "language_info": {
      "name": "python"
    }
  },
  "cells": [
    {
      "cell_type": "markdown",
      "metadata": {
        "id": "view-in-github",
        "colab_type": "text"
      },
      "source": [
        "<a href=\"https://colab.research.google.com/github/tantai17132002/cautrucdulieuvandgiaithuat/blob/main/CTDLGT/CTDLGT_Python/BT17_C%C3%A0i_%C4%91%E1%BA%B7t_thu%E1%BA%ADt_to%C3%A1n_s%E1%BA%AFp_x%E1%BA%BFp_nhanh_quick_sort.ipynb\" target=\"_parent\"><img src=\"https://colab.research.google.com/assets/colab-badge.svg\" alt=\"Open In Colab\"/></a>"
      ]
    },
    {
      "cell_type": "code",
      "metadata": {
        "id": "h8VvTtvM2QmP",
        "colab": {
          "base_uri": "https://localhost:8080/"
        },
        "outputId": "03092df9-9e2e-4c0e-958f-b49b1c298b97"
      },
      "source": [
        "# There are different ways to do a Quick Sort partition, this implements the\n",
        "# Hoare partition scheme. Tony Hoare also created the Quick Sort algorithm.\n",
        "def partition(nums, low, high):\n",
        "    # We select the middle element to be the pivot. Some implementations select\n",
        "    # the first element or the last element. Sometimes the median value becomes\n",
        "    # the pivot, or a random one. There are many more strategies that can be\n",
        "    # chosen or created.\n",
        "    pivot = nums[(low + high) // 2]\n",
        "    i = low - 1\n",
        "    j = high + 1\n",
        "    while True:\n",
        "        i += 1\n",
        "        while nums[i] < pivot:\n",
        "            i += 1\n",
        "\n",
        "        j -= 1\n",
        "        while nums[j] > pivot:\n",
        "            j -= 1\n",
        "\n",
        "        if i >= j:\n",
        "            return j\n",
        "\n",
        "        # If an element at i (on the left of the pivot) is larger than the\n",
        "        # element at j (on right right of the pivot), then swap them\n",
        "        nums[i], nums[j] = nums[j], nums[i]\n",
        "\n",
        "\n",
        "def quick_sort(nums):\n",
        "    # Create a helper function that will be called recursively\n",
        "    def _quick_sort(items, low, high):\n",
        "        if low < high:\n",
        "            # This is the index after the pivot, where our lists are split\n",
        "            split_index = partition(items, low, high)\n",
        "            _quick_sort(items, low, split_index)\n",
        "            _quick_sort(items, split_index + 1, high)\n",
        "\n",
        "    _quick_sort(nums, 0, len(nums) - 1)\n",
        "\n",
        "\n",
        "# Verify it works\n",
        "random_list_of_nums = [22, 5, 1, 18, 99]\n",
        "quick_sort(random_list_of_nums)\n",
        "print(random_list_of_nums)  "
      ],
      "execution_count": 1,
      "outputs": [
        {
          "output_type": "stream",
          "text": [
            "[1, 5, 18, 22, 99]\n"
          ],
          "name": "stdout"
        }
      ]
    }
  ]
}