{
  "nbformat": 4,
  "nbformat_minor": 0,
  "metadata": {
    "colab": {
      "name": "BT16: Cài đặt thuật toán sắp xếp nổi bọt.ipynb",
      "provenance": [],
      "authorship_tag": "ABX9TyO6ItlsL+XwwRKu3izWjlpq",
      "include_colab_link": true
    },
    "kernelspec": {
      "name": "python3",
      "display_name": "Python 3"
    },
    "language_info": {
      "name": "python"
    }
  },
  "cells": [
    {
      "cell_type": "markdown",
      "metadata": {
        "id": "view-in-github",
        "colab_type": "text"
      },
      "source": [
        "<a href=\"https://colab.research.google.com/github/tantai17132002/cautrucdulieuvandgiaithuat/blob/main/CTDLGT/CTDLGT_Python/BT16_C%C3%A0i_%C4%91%E1%BA%B7t_thu%E1%BA%ADt_to%C3%A1n_s%E1%BA%AFp_x%E1%BA%BFp_n%E1%BB%95i_b%E1%BB%8Dt.ipynb\" target=\"_parent\"><img src=\"https://colab.research.google.com/assets/colab-badge.svg\" alt=\"Open In Colab\"/></a>"
      ]
    },
    {
      "cell_type": "code",
      "metadata": {
        "colab": {
          "base_uri": "https://localhost:8080/"
        },
        "id": "zU8q5wHOJTgG",
        "outputId": "65d14a35-39df-41fd-fb51-8d1f13d73d23"
      },
      "source": [
        "def bubble_sort(nums):\n",
        "    # We set swapped to True so the loop looks runs at least once\n",
        "    swapped = True\n",
        "    while swapped:\n",
        "        swapped = False\n",
        "        for i in range(len(nums) - 1):\n",
        "            if nums[i] > nums[i + 1]:\n",
        "                # Swap the elements\n",
        "                nums[i], nums[i + 1] = nums[i + 1], nums[i]\n",
        "                # Set the flag to True so we'll loop again\n",
        "                swapped = True\n",
        "\n",
        "\n",
        "# Verify it works\n",
        "random_list_of_nums = [5, 2, 1, 8, 4]\n",
        "bubble_sort(random_list_of_nums)\n",
        "print(random_list_of_nums)"
      ],
      "execution_count": 2,
      "outputs": [
        {
          "output_type": "stream",
          "text": [
            "[1, 2, 4, 5, 8]\n"
          ],
          "name": "stdout"
        }
      ]
    }
  ]
}