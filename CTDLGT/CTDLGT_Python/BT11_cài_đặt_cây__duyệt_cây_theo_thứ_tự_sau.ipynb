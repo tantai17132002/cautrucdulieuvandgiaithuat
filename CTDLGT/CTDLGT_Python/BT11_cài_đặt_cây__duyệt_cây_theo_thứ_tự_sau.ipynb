{
  "nbformat": 4,
  "nbformat_minor": 0,
  "metadata": {
    "colab": {
      "name": "BT11_cài đặt cây _duyệt cây theo thứ tự sau.ipynb",
      "provenance": [],
      "authorship_tag": "ABX9TyOSkbOkcSPFUUhoIzeYvLwT",
      "include_colab_link": true
    },
    "kernelspec": {
      "name": "python3",
      "display_name": "Python 3"
    },
    "language_info": {
      "name": "python"
    }
  },
  "cells": [
    {
      "cell_type": "markdown",
      "metadata": {
        "id": "view-in-github",
        "colab_type": "text"
      },
      "source": [
        "<a href=\"https://colab.research.google.com/github/tantai17132002/cautrucdulieuvandgiaithuat/blob/main/CTDLGT/CTDLGT_Python/BT11_c%C3%A0i_%C4%91%E1%BA%B7t_c%C3%A2y__duy%E1%BB%87t_c%C3%A2y_theo_th%E1%BB%A9_t%E1%BB%B1_sau.ipynb\" target=\"_parent\"><img src=\"https://colab.research.google.com/assets/colab-badge.svg\" alt=\"Open In Colab\"/></a>"
      ]
    },
    {
      "cell_type": "code",
      "metadata": {
        "colab": {
          "base_uri": "https://localhost:8080/"
        },
        "id": "5PyJz35JBL8N",
        "outputId": "40f14d60-b400-4361-a3e5-f6b5887b7cf2"
      },
      "source": [
        "class Node:\n",
        "\n",
        "    def __init__(self, data):\n",
        "\n",
        "        self.left = None\n",
        "        self.right = None\n",
        "        self.data = data\n",
        "# Insert Node\n",
        "    def insert(self, data):\n",
        "\n",
        "        if self.data:\n",
        "            if data < self.data:\n",
        "                if self.left is None:\n",
        "                    self.left = Node(data)\n",
        "                else:\n",
        "                    self.left.insert(data)\n",
        "            elif data > self.data:\n",
        "                if self.right is None:\n",
        "                    self.right = Node(data)\n",
        "                else:\n",
        "                    self.right.insert(data)\n",
        "        else:\n",
        "            self.data = data\n",
        "\n",
        "# Print the Tree\n",
        "    def PrintTree(self):\n",
        "        if self.left:\n",
        "            self.left.PrintTree()\n",
        "        print( self.data),\n",
        "        if self.right:\n",
        "            self.right.PrintTree()\n",
        "\n",
        "# Preorder traversal\n",
        "# Root -> Left ->Right\n",
        "    def PreorderTraversal(self, root):\n",
        "        res = []\n",
        "        if root:\n",
        "            res.append(root.data)\n",
        "            res = res + self.PreorderTraversal(root.left)\n",
        "            res = res + self.PreorderTraversal(root.right)\n",
        "        return res\n",
        "\n",
        "root = Node(27)\n",
        "root.insert(14)\n",
        "root.insert(35)\n",
        "root.insert(10)\n",
        "root.insert(19)\n",
        "root.insert(31)\n",
        "root.insert(42)\n",
        "print(root.PreorderTraversal(root))"
      ],
      "execution_count": 1,
      "outputs": [
        {
          "output_type": "stream",
          "text": [
            "[27, 14, 10, 19, 35, 31, 42]\n"
          ],
          "name": "stdout"
        }
      ]
    }
  ]
}