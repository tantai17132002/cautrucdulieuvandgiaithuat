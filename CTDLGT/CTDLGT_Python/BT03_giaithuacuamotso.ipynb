{
  "nbformat": 4,
  "nbformat_minor": 0,
  "metadata": {
    "colab": {
      "name": "BT03_giaithuacuamotso.ipynb",
      "provenance": [],
      "authorship_tag": "ABX9TyNF5zXUPHOZkrQD+ycepD9y",
      "include_colab_link": true
    },
    "kernelspec": {
      "name": "python3",
      "display_name": "Python 3"
    },
    "language_info": {
      "name": "python"
    }
  },
  "cells": [
    {
      "cell_type": "markdown",
      "metadata": {
        "id": "view-in-github",
        "colab_type": "text"
      },
      "source": [
        "<a href=\"https://colab.research.google.com/github/tantai17132002/cautrucdulieuvandgiaithuat/blob/main/CTDLGT/CTDLGT_Python/BT03_giaithuacuamotso.ipynb\" target=\"_parent\"><img src=\"https://colab.research.google.com/assets/colab-badge.svg\" alt=\"Open In Colab\"/></a>"
      ]
    },
    {
      "cell_type": "code",
      "metadata": {
        "colab": {
          "base_uri": "https://localhost:8080/"
        },
        "id": "xmJIt53A7iHA",
        "outputId": "7b85600f-072d-4c8b-e351-61f297735b49"
      },
      "source": [
        "#Hàm tính giai thừa\n",
        "def giai_thua(n):\n",
        "    if n == 0:\n",
        "        return 1\n",
        "    else:\n",
        "        return n * giai_thua(n - 1)\n",
        "\n",
        "print(giai_thua(9))"
      ],
      "execution_count": 1,
      "outputs": [
        {
          "output_type": "stream",
          "text": [
            "362880\n"
          ],
          "name": "stdout"
        }
      ]
    }
  ]
}