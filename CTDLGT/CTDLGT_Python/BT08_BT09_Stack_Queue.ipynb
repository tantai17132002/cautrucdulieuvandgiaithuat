{
  "nbformat": 4,
  "nbformat_minor": 0,
  "metadata": {
    "colab": {
      "name": "BT08_BT09_Stack_Queue.ipynb",
      "provenance": [],
      "authorship_tag": "ABX9TyNFIwf2mrb4JTlrI10MaWlr",
      "include_colab_link": true
    },
    "kernelspec": {
      "name": "python3",
      "display_name": "Python 3"
    },
    "language_info": {
      "name": "python"
    }
  },
  "cells": [
    {
      "cell_type": "markdown",
      "metadata": {
        "id": "view-in-github",
        "colab_type": "text"
      },
      "source": [
        "<a href=\"https://colab.research.google.com/github/tantai17132002/cautrucdulieuvandgiaithuat/blob/main/CTDLGT/CTDLGT_Python/BT08_BT09_Stack_Queue.ipynb\" target=\"_parent\"><img src=\"https://colab.research.google.com/assets/colab-badge.svg\" alt=\"Open In Colab\"/></a>"
      ]
    },
    {
      "cell_type": "code",
      "metadata": {
        "id": "0UX_zRJu5HY4"
      },
      "source": [
        "#Stack: ngăn xếp, Queue: hàng đợi.\n",
        "class Stack:\n",
        "\n",
        "    def __init__(self):\n",
        "        self.stack = []\n",
        "\n",
        "    def pop(self):\n",
        "        if len(self.stack) < 1:\n",
        "            return None\n",
        "        return self.stack.pop()\n",
        "\n",
        "    def push(self, item):\n",
        "        self.stack.append(item)\n",
        "\n",
        "    def size(self):\n",
        "        return len(self.stack)\n",
        "\n",
        "# And a queue that only has enqueue and dequeue operations\n",
        "class Queue:\n",
        "\n",
        "    def __init__(self):\n",
        "        self.queue = []\n",
        "\n",
        "    def enqueue(self, item):\n",
        "        self.queue.append(item)\n",
        "\n",
        "    def dequeue(self):\n",
        "        if len(self.queue) < 1:\n",
        "            return None\n",
        "        return self.queue.pop(0)\n",
        "\n",
        "    def size(self):\n",
        "        return len(self.queue) "
      ],
      "execution_count": null,
      "outputs": []
    }
  ]
}