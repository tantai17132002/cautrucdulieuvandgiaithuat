{
  "nbformat": 4,
  "nbformat_minor": 0,
  "metadata": {
    "colab": {
      "name": "BT02: Ước số chung lớn nhất.ipynb",
      "provenance": [],
      "authorship_tag": "ABX9TyPrmByh+gsnVhWpza78LFMz",
      "include_colab_link": true
    },
    "kernelspec": {
      "name": "python3",
      "display_name": "Python 3"
    },
    "language_info": {
      "name": "python"
    }
  },
  "cells": [
    {
      "cell_type": "markdown",
      "metadata": {
        "id": "view-in-github",
        "colab_type": "text"
      },
      "source": [
        "<a href=\"https://colab.research.google.com/github/tantai17132002/cautrucdulieuvandgiaithuat/blob/main/CTDLGT/CTDLGT_Python/BT02_%C6%AF%E1%BB%9Bc_s%E1%BB%91_chung_l%E1%BB%9Bn_nh%E1%BA%A5t.ipynb\" target=\"_parent\"><img src=\"https://colab.research.google.com/assets/colab-badge.svg\" alt=\"Open In Colab\"/></a>"
      ]
    },
    {
      "cell_type": "code",
      "metadata": {
        "id": "pNzFQsono-g-",
        "colab": {
          "base_uri": "https://localhost:8080/"
        },
        "outputId": "7c6c6970-3917-440a-a9aa-31c2ed786c52"
      },
      "source": [
        "def uscln(a,b):\n",
        "    if (b == 0):\n",
        "        return a;\n",
        "    return uscln(b, a%b);\n",
        "\n",
        "a = int(input(\"Nhap so nguyen duong a =\"));\n",
        "b = int(input(\"Nhap so nguyen duong b =\"));\n",
        "print(\"Ước số chung lớn nhất của\", a, \"và\", b, \"là:\",uscln(a,b));"
      ],
      "execution_count": 4,
      "outputs": [
        {
          "output_type": "stream",
          "text": [
            "Nhap so nguyen duong a =8\n",
            "Nhap so nguyen duong b =4\n",
            "Ước số chung lớn nhất của 8 và 4 là: 4\n"
          ],
          "name": "stdout"
        }
      ]
    }
  ]
}