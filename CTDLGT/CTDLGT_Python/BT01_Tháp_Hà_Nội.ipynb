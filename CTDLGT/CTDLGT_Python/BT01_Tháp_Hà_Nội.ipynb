{
  "nbformat": 4,
  "nbformat_minor": 0,
  "metadata": {
    "colab": {
      "name": "BT01: Tháp Hà Nội.ipynb",
      "provenance": []
    },
    "kernelspec": {
      "name": "python3",
      "display_name": "Python 3"
    },
    "language_info": {
      "name": "python"
    }
  },
  "cells": [
    {
      "cell_type": "code",
      "metadata": {
        "id": "4LClPOKtoXWE",
        "colab": {
          "base_uri": "https://localhost:8080/"
        },
        "outputId": "58bb057c-a80d-4cfa-f914-0f0e47b25f6b"
      },
      "source": [
        "def thapHaNoi(n, ToaMot, ToaHai, ToaBa):\n",
        "\n",
        "    if n == 1:\n",
        "        print(\"Chuyen tu\", ToaMot, \"sang\", ToaBa)\n",
        "    else:\n",
        "        thapHaNoi(n-1, ToaMot, ToaBa, ToaHai)\n",
        "        print(\"Chuyen tu\", ToaMot, \"sang\", ToaBa)\n",
        "        thapHaNoi(n-1, ToaHai, ToaMot, ToaBa)\n",
        "\n",
        "thapHaNoi(4,'A','B','C')"
      ],
      "execution_count": 1,
      "outputs": [
        {
          "output_type": "stream",
          "text": [
            "Chuyen tu A sang B\n",
            "Chuyen tu A sang C\n",
            "Chuyen tu B sang C\n",
            "Chuyen tu A sang B\n",
            "Chuyen tu C sang A\n",
            "Chuyen tu C sang B\n",
            "Chuyen tu A sang B\n",
            "Chuyen tu A sang C\n",
            "Chuyen tu B sang C\n",
            "Chuyen tu B sang A\n",
            "Chuyen tu C sang A\n",
            "Chuyen tu B sang C\n",
            "Chuyen tu A sang B\n",
            "Chuyen tu A sang C\n",
            "Chuyen tu B sang C\n"
          ],
          "name": "stdout"
        }
      ]
    }
  ]
}