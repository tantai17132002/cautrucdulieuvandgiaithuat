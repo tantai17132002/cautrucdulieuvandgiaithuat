{
  "nbformat": 4,
  "nbformat_minor": 0,
  "metadata": {
    "colab": {
      "name": "BT19: Cài đặt thuật toán sắp xếp trộn - merge sort.ipynb",
      "provenance": [],
      "authorship_tag": "ABX9TyMamwcwM3YfiYmBcNMyDDFT",
      "include_colab_link": true
    },
    "kernelspec": {
      "name": "python3",
      "display_name": "Python 3"
    },
    "language_info": {
      "name": "python"
    }
  },
  "cells": [
    {
      "cell_type": "markdown",
      "metadata": {
        "id": "view-in-github",
        "colab_type": "text"
      },
      "source": [
        "<a href=\"https://colab.research.google.com/github/tantai17132002/cautrucdulieuvandgiaithuat/blob/main/BT19_C%C3%A0i_%C4%91%E1%BA%B7t_thu%E1%BA%ADt_to%C3%A1n_s%E1%BA%AFp_x%E1%BA%BFp_tr%E1%BB%99n_merge_sort.ipynb\" target=\"_parent\"><img src=\"https://colab.research.google.com/assets/colab-badge.svg\" alt=\"Open In Colab\"/></a>"
      ]
    },
    {
      "cell_type": "code",
      "metadata": {
        "id": "Dq-8ldFo22sB"
      },
      "source": [
        "mmerge<-function(a,b) {\n",
        "  r<-numeric(length(a)+length(b))\n",
        "  ai<-1; bi<-1; j<-1;\n",
        "  for(j in 1:length(r)) {\n",
        "    if((ai<=length(a) && a[ai]<b[bi]) || bi>length(b)) {\n",
        "      r[j] <- a[ai]\n",
        "      ai <- ai+1\n",
        "    } else {\n",
        "      r[j] <- b[bi]\n",
        "      bi <- bi+1          \n",
        "    }\n",
        "  }\n",
        "  r\n",
        "}\n",
        "mmergesort<-function(A) {\n",
        "  if(length(A)>1) {\n",
        "    q <- ceiling(length(A)/2)\n",
        "    a <- mmergesort(A[1:q])\n",
        "    b <- mmergesort(A[(q+1):length(A)])\n",
        "    mmerge(a,b)\n",
        "  } else {\n",
        "    A\n",
        "  }\n",
        "}\n",
        "x<-c(18, 16, 8, 7, 6, 3, 11, 9, 15, 1)\n",
        "mmergesort(x)"
      ],
      "execution_count": null,
      "outputs": []
    }
  ]
}