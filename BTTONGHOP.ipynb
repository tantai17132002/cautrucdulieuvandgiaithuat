{
  "nbformat": 4,
  "nbformat_minor": 0,
  "metadata": {
    "colab": {
      "name": "BTTONGHOP.ipynb",
      "provenance": [],
      "authorship_tag": "ABX9TyMR8husv0TU+jejiIrVS/Ys",
      "include_colab_link": true
    },
    "kernelspec": {
      "name": "python3",
      "display_name": "Python 3"
    },
    "language_info": {
      "name": "python"
    }
  },
  "cells": [
    {
      "cell_type": "markdown",
      "metadata": {
        "id": "view-in-github",
        "colab_type": "text"
      },
      "source": [
        "<a href=\"https://colab.research.google.com/github/tantai17132002/cautrucdulieuvandgiaithuat/blob/main/BTTONGHOP.ipynb\" target=\"_parent\"><img src=\"https://colab.research.google.com/assets/colab-badge.svg\" alt=\"Open In Colab\"/></a>"
      ]
    },
    {
      "cell_type": "markdown",
      "metadata": {
        "id": "2_Q4bHVb9hy2"
      },
      "source": [
        "1. Giải thuật đệ quỵ."
      ]
    },
    {
      "cell_type": "markdown",
      "metadata": {
        "id": "GzItAgX79o_s"
      },
      "source": [
        "* BT01: Tháp Hà Nội"
      ]
    },
    {
      "cell_type": "code",
      "metadata": {
        "colab": {
          "base_uri": "https://localhost:8080/"
        },
        "id": "3tltlPVM9f0L",
        "outputId": "0ee81b7f-715f-4344-e547-626be82e2ac8"
      },
      "source": [
        "  def thapHaNoi(n, ToaMot, ToaHai, ToaBa):\n",
        "\n",
        "    if n == 1:\n",
        "        print(\"Chuyen tu\", ToaMot, \"sang\", ToaBa)\n",
        "    else:\n",
        "        thapHaNoi(n-1, ToaMot, ToaBa, ToaHai)\n",
        "        print(\"Chuyen tu\", ToaMot, \"sang\", ToaBa)\n",
        "        thapHaNoi(n-1, ToaHai, ToaMot, ToaBa)\n",
        "\n",
        "  thapHaNoi(2,'A','B','C')"
      ],
      "execution_count": 1,
      "outputs": [
        {
          "output_type": "stream",
          "text": [
            "Chuyen tu A sang B\n",
            "Chuyen tu A sang C\n",
            "Chuyen tu B sang C\n"
          ],
          "name": "stdout"
        }
      ]
    },
    {
      "cell_type": "markdown",
      "metadata": {
        "id": "zoaDnkbH98nq"
      },
      "source": [
        "* BT02: Ước số chung lớn nhất"
      ]
    },
    {
      "cell_type": "code",
      "metadata": {
        "colab": {
          "base_uri": "https://localhost:8080/"
        },
        "id": "a2dTNfij-Hc6",
        "outputId": "0832446c-7102-4c57-a666-8ece4a24d264"
      },
      "source": [
        "def uscln(a,b):\n",
        "    if (b == 0):\n",
        "        return a;\n",
        "    return uscln(b, a%b);\n",
        "\n",
        "a = int(input(\"Nhap so nguyen duong a =\"));\n",
        "b = int(input(\"Nhap so nguyen duong b =\"));\n",
        "print(\"Ước số chung lớn nhất của\", a, \"và\", b, \"là:\",uscln(a,b));"
      ],
      "execution_count": 2,
      "outputs": [
        {
          "output_type": "stream",
          "text": [
            "Nhap so nguyen duong a =2\n",
            "Nhap so nguyen duong b =3\n",
            "Ước số chung lớn nhất của 2 và 3 là: 1\n"
          ],
          "name": "stdout"
        }
      ]
    },
    {
      "cell_type": "markdown",
      "metadata": {
        "id": "YXmWRSSUABHq"
      },
      "source": [
        "* BT03: Bài toán 8 quân hậu"
      ]
    },
    {
      "cell_type": "code",
      "metadata": {
        "colab": {
          "base_uri": "https://localhost:8080/"
        },
        "id": "WtqzhjHMAJaQ",
        "outputId": "41a4a0c5-f461-42e2-9ab0-4c053badce47"
      },
      "source": [
        "n = 8\n",
        "a = n*[0]\n",
        "def print_board(b):\n",
        "   l = len(b)\n",
        "   for i in range(l):\n",
        "      for j in range(l):\n",
        "         if j == a[i]:\n",
        "            print(1, end = \" \")\n",
        "         else:\n",
        "            print(0, end = \" \")\n",
        "      print()\n",
        "def possible(d, c):\n",
        "   for i in range(d):\n",
        "      # if a[i] == y or abs(i - x) == abs(a[i] - y):\n",
        "      if a[i] == c  or c - d == a[i] - i or c + d == a[i] + i:\n",
        "         return False\n",
        "   return True\n",
        "def gen(i, n):\n",
        "   for j in range(n):\n",
        "      if possible(i,j):\n",
        "         a[i] = j\n",
        "         if i == n - 1:\n",
        "            print(a)\n",
        "         gen(i+1, n)\n",
        "gen(0, n)"
      ],
      "execution_count": 3,
      "outputs": [
        {
          "output_type": "stream",
          "text": [
            "[0, 4, 7, 5, 2, 6, 1, 3]\n",
            "[0, 5, 7, 2, 6, 3, 1, 4]\n",
            "[0, 6, 3, 5, 7, 1, 4, 2]\n",
            "[0, 6, 4, 7, 1, 3, 5, 2]\n",
            "[1, 3, 5, 7, 2, 0, 6, 4]\n",
            "[1, 4, 6, 0, 2, 7, 5, 3]\n",
            "[1, 4, 6, 3, 0, 7, 5, 2]\n",
            "[1, 5, 0, 6, 3, 7, 2, 4]\n",
            "[1, 5, 7, 2, 0, 3, 6, 4]\n",
            "[1, 6, 2, 5, 7, 4, 0, 3]\n",
            "[1, 6, 4, 7, 0, 3, 5, 2]\n",
            "[1, 7, 5, 0, 2, 4, 6, 3]\n",
            "[2, 0, 6, 4, 7, 1, 3, 5]\n",
            "[2, 4, 1, 7, 0, 6, 3, 5]\n",
            "[2, 4, 1, 7, 5, 3, 6, 0]\n",
            "[2, 4, 6, 0, 3, 1, 7, 5]\n",
            "[2, 4, 7, 3, 0, 6, 1, 5]\n",
            "[2, 5, 1, 4, 7, 0, 6, 3]\n",
            "[2, 5, 1, 6, 0, 3, 7, 4]\n",
            "[2, 5, 1, 6, 4, 0, 7, 3]\n",
            "[2, 5, 3, 0, 7, 4, 6, 1]\n",
            "[2, 5, 3, 1, 7, 4, 6, 0]\n",
            "[2, 5, 7, 0, 3, 6, 4, 1]\n",
            "[2, 5, 7, 0, 4, 6, 1, 3]\n",
            "[2, 5, 7, 1, 3, 0, 6, 4]\n",
            "[2, 6, 1, 7, 4, 0, 3, 5]\n",
            "[2, 6, 1, 7, 5, 3, 0, 4]\n",
            "[2, 7, 3, 6, 0, 5, 1, 4]\n",
            "[3, 0, 4, 7, 1, 6, 2, 5]\n",
            "[3, 0, 4, 7, 5, 2, 6, 1]\n",
            "[3, 1, 4, 7, 5, 0, 2, 6]\n",
            "[3, 1, 6, 2, 5, 7, 0, 4]\n",
            "[3, 1, 6, 2, 5, 7, 4, 0]\n",
            "[3, 1, 6, 4, 0, 7, 5, 2]\n",
            "[3, 1, 7, 4, 6, 0, 2, 5]\n",
            "[3, 1, 7, 5, 0, 2, 4, 6]\n",
            "[3, 5, 0, 4, 1, 7, 2, 6]\n",
            "[3, 5, 7, 1, 6, 0, 2, 4]\n",
            "[3, 5, 7, 2, 0, 6, 4, 1]\n",
            "[3, 6, 0, 7, 4, 1, 5, 2]\n",
            "[3, 6, 2, 7, 1, 4, 0, 5]\n",
            "[3, 6, 4, 1, 5, 0, 2, 7]\n",
            "[3, 6, 4, 2, 0, 5, 7, 1]\n",
            "[3, 7, 0, 2, 5, 1, 6, 4]\n",
            "[3, 7, 0, 4, 6, 1, 5, 2]\n",
            "[3, 7, 4, 2, 0, 6, 1, 5]\n",
            "[4, 0, 3, 5, 7, 1, 6, 2]\n",
            "[4, 0, 7, 3, 1, 6, 2, 5]\n",
            "[4, 0, 7, 5, 2, 6, 1, 3]\n",
            "[4, 1, 3, 5, 7, 2, 0, 6]\n",
            "[4, 1, 3, 6, 2, 7, 5, 0]\n",
            "[4, 1, 5, 0, 6, 3, 7, 2]\n",
            "[4, 1, 7, 0, 3, 6, 2, 5]\n",
            "[4, 2, 0, 5, 7, 1, 3, 6]\n",
            "[4, 2, 0, 6, 1, 7, 5, 3]\n",
            "[4, 2, 7, 3, 6, 0, 5, 1]\n",
            "[4, 6, 0, 2, 7, 5, 3, 1]\n",
            "[4, 6, 0, 3, 1, 7, 5, 2]\n",
            "[4, 6, 1, 3, 7, 0, 2, 5]\n",
            "[4, 6, 1, 5, 2, 0, 3, 7]\n",
            "[4, 6, 1, 5, 2, 0, 7, 3]\n",
            "[4, 6, 3, 0, 2, 7, 5, 1]\n",
            "[4, 7, 3, 0, 2, 5, 1, 6]\n",
            "[4, 7, 3, 0, 6, 1, 5, 2]\n",
            "[5, 0, 4, 1, 7, 2, 6, 3]\n",
            "[5, 1, 6, 0, 2, 4, 7, 3]\n",
            "[5, 1, 6, 0, 3, 7, 4, 2]\n",
            "[5, 2, 0, 6, 4, 7, 1, 3]\n",
            "[5, 2, 0, 7, 3, 1, 6, 4]\n",
            "[5, 2, 0, 7, 4, 1, 3, 6]\n",
            "[5, 2, 4, 6, 0, 3, 1, 7]\n",
            "[5, 2, 4, 7, 0, 3, 1, 6]\n",
            "[5, 2, 6, 1, 3, 7, 0, 4]\n",
            "[5, 2, 6, 1, 7, 4, 0, 3]\n",
            "[5, 2, 6, 3, 0, 7, 1, 4]\n",
            "[5, 3, 0, 4, 7, 1, 6, 2]\n",
            "[5, 3, 1, 7, 4, 6, 0, 2]\n",
            "[5, 3, 6, 0, 2, 4, 1, 7]\n",
            "[5, 3, 6, 0, 7, 1, 4, 2]\n",
            "[5, 7, 1, 3, 0, 6, 4, 2]\n",
            "[6, 0, 2, 7, 5, 3, 1, 4]\n",
            "[6, 1, 3, 0, 7, 4, 2, 5]\n",
            "[6, 1, 5, 2, 0, 3, 7, 4]\n",
            "[6, 2, 0, 5, 7, 4, 1, 3]\n",
            "[6, 2, 7, 1, 4, 0, 5, 3]\n",
            "[6, 3, 1, 4, 7, 0, 2, 5]\n",
            "[6, 3, 1, 7, 5, 0, 2, 4]\n",
            "[6, 4, 2, 0, 5, 7, 1, 3]\n",
            "[7, 1, 3, 0, 6, 4, 2, 5]\n",
            "[7, 1, 4, 2, 0, 6, 3, 5]\n",
            "[7, 2, 0, 5, 1, 4, 6, 3]\n",
            "[7, 3, 0, 2, 5, 1, 6, 4]\n"
          ],
          "name": "stdout"
        }
      ]
    },
    {
      "cell_type": "markdown",
      "metadata": {
        "id": "SAQan6djBF0P"
      },
      "source": [
        "* BT04: Tính giai thừa của một số."
      ]
    },
    {
      "cell_type": "code",
      "metadata": {
        "colab": {
          "base_uri": "https://localhost:8080/"
        },
        "id": "YFOXrK3TG6y9",
        "outputId": "447d8ec9-dc7b-4797-fcaf-493d493b2aa2"
      },
      "source": [
        "def n_giai_thua(n):\n",
        "    s = 1;\n",
        "    if (n == 0 or n == 1):\n",
        "        return s;\n",
        "    else:\n",
        "        for i in range(2,n+1,1):\n",
        "            s = s * i;\n",
        "        return s;\n",
        " \n",
        "n = int(input(\"Nhập số nguyên dương n = \"));\n",
        "print( n,\"! = \",n_giai_thua(n));"
      ],
      "execution_count": 4,
      "outputs": [
        {
          "output_type": "stream",
          "text": [
            "Nhập số nguyên dương n = 5\n",
            "5 ! =  120\n"
          ],
          "name": "stdout"
        }
      ]
    },
    {
      "cell_type": "markdown",
      "metadata": {
        "id": "iVVl72iRHxyY"
      },
      "source": [
        "* BT05: Bài toán mã đi tuần."
      ]
    },
    {
      "cell_type": "code",
      "metadata": {
        "colab": {
          "base_uri": "https://localhost:8080/"
        },
        "id": "x8tue8TjHxOi",
        "outputId": "cabea643-4652-415c-eed1-9c531333ca12"
      },
      "source": [
        "n = int(input('Ti le n ='))\n",
        " \n",
        " \n",
        "def isSafe(x, y, board):\n",
        "    if(x >= 0 and y >= 0 and x < n and y < n and board[x][y] == -1):\n",
        "        return True\n",
        "    return False\n",
        " \n",
        " \n",
        "def printSolution(n, board):\n",
        "    for i in range(n):\n",
        "        for j in range(n):\n",
        "            print(board[i][j], end=' ')\n",
        "        print()\n",
        " \n",
        " \n",
        "def solveKT(n):\n",
        "    board = [[-1 for i in range(n)]for i in range(n)]\n",
        "    move_x = [2, 1, -1, -2, -2, -1, 1, 2]\n",
        "    move_y = [1, 2, 2, 1, -1, -2, -2, -1]\n",
        "    board[0][0] = 0\n",
        "    pos = 1\n",
        "    if(not solveKTUtil(n, board, 0, 0, move_x, move_y, pos)):\n",
        "        print(\"Solution does not exist\")\n",
        "    else:\n",
        "        printSolution(n, board)\n",
        " \n",
        " \n",
        "def solveKTUtil(n, board, curr_x, curr_y, move_x, move_y, pos):\n",
        "    if(pos == n**2):\n",
        "        return True\n",
        "    for i in range(8):\n",
        "        new_x = curr_x + move_x[i]\n",
        "        new_y = curr_y + move_y[i]\n",
        "        if(isSafe(new_x, new_y, board)):\n",
        "            board[new_x][new_y] = pos\n",
        "            if(solveKTUtil(n, board, new_x, new_y, move_x, move_y, pos+1)):\n",
        "                return True\n",
        "            board[new_x][new_y] = -1\n",
        "    return False\n",
        " \n",
        " \n",
        "solveKT(n)"
      ],
      "execution_count": 7,
      "outputs": [
        {
          "output_type": "stream",
          "text": [
            "Ti le n =7\n",
            "0 37 30 7 18 35 14 \n",
            "31 28 19 36 15 6 17 \n",
            "38 1 32 29 8 13 34 \n",
            "27 24 39 20 33 16 5 \n",
            "40 21 2 25 44 9 12 \n",
            "23 26 47 42 11 4 45 \n",
            "48 41 22 3 46 43 10 \n"
          ],
          "name": "stdout"
        }
      ]
    },
    {
      "cell_type": "markdown",
      "metadata": {
        "id": "S5ymej7ZehO2"
      },
      "source": [
        "4. Đồ thị:"
      ]
    },
    {
      "cell_type": "markdown",
      "metadata": {
        "id": "v7du3hSEZ7uF"
      },
      "source": [
        " * BT12. Cài đặt đồ thị vô hướng."
      ]
    },
    {
      "cell_type": "code",
      "metadata": {
        "colab": {
          "base_uri": "https://localhost:8080/",
          "height": 248
        },
        "id": "vxq41BgEVB4P",
        "outputId": "15bb7d8b-08a9-48de-c124-edb7f97a70bd"
      },
      "source": [
        "import networkx as nx\n",
        "import matplotlib.pyplot as plt\n",
        "G = nx.DiGraph()\n",
        "G.add_edges_from([('A','B'),('B','C'),('B','D'),('D','C')])\n",
        "\n",
        "\n",
        "# Specify the edges you want here\n",
        "red_edges = [('A', 'C')]\n",
        "edge_colours = ['black' if not edge in red_edges else 'red'\n",
        "                for edge in G.edges()]\n",
        "black_edges = [edge for edge in G.edges() if edge not in red_edges]\n",
        "pos = nx.spring_layout(G)\n",
        "nx.draw_networkx_nodes(G, pos, cmap=plt.get_cmap('jet'), \n",
        "                        node_size = 500)\n",
        "nx.draw_networkx_labels(G, pos)\n",
        "nx.draw_networkx_edges(G, pos, edgelist=black_edges, arrows=False)\n",
        "plt.show()"
      ],
      "execution_count": 8,
      "outputs": [
        {
          "output_type": "display_data",
          "data": {
            "image/png": "[encoded data removed]",
            "text/plain": [
              "<Figure size 432x288 with 1 Axes>"
            ]
          },
          "metadata": {
            "tags": []
          }
        }
      ]
    },
    {
      "cell_type": "markdown",
      "metadata": {
        "id": "B1Wn-9KDaMlR"
      },
      "source": [
        "* BT13. Cài đặt đồ thị có hướng"
      ]
    },
    {
      "cell_type": "code",
      "metadata": {
        "colab": {
          "base_uri": "https://localhost:8080/",
          "height": 248
        },
        "id": "nIfk3RotaTdR",
        "outputId": "478daf3b-d135-4be8-c629-23133edbc521"
      },
      "source": [
        "import networkx as nx\n",
        "import matplotlib.pyplot as plt\n",
        "\n",
        "G = nx.DiGraph()\n",
        "G.add_edges_from([('A','B'),('B','C'),('C','D'),('B','D'),('D','D')])\n",
        "\n",
        "red_edges = [('A', 'C'), ('E', 'C')]\n",
        "edge_colours = ['black' if not edge in red_edges else 'red'\n",
        "                for edge in G.edges()]\n",
        "black_edges = [edge for edge in G.edges() if edge not in red_edges]\n",
        "pos = nx.spring_layout(G)\n",
        "nx.draw_networkx_nodes(G, pos, cmap=plt.get_cmap('jet'), \n",
        "                       node_size = 500)\n",
        "nx.draw_networkx_labels(G, pos)\n",
        "nx.draw_networkx_edges(G, pos, edgelist=black_edges, arrows=True)\n",
        "plt.show()"
      ],
      "execution_count": 9,
      "outputs": [
        {
          "output_type": "display_data",
          "data": {
            "image/png": "[encoded data removed]",
            "text/plain": [
              "<Figure size 432x288 with 1 Axes>"
            ]
          },
          "metadata": {
            "tags": []
          }
        }
      ]
    },
    {
      "cell_type": "code",
      "metadata": {
        "id": "S2dmN6D1hba1"
      },
      "source": [
        "5. Sắp xếp và tìm kiếm."
      ],
      "execution_count": null,
      "outputs": []
    },
    {
      "cell_type": "markdown",
      "metadata": {
        "id": "nDplpk_ohcmj"
      },
      "source": [
        "* BT14: Cài đặt thuật toán sắp xếp chọn:"
      ]
    },
    {
      "cell_type": "code",
      "metadata": {
        "id": "nBs0eAl6hhPl"
      },
      "source": [
        "selection_sort = function(x){\n",
        "  n = length(x)\n",
        "  for (i in 1 : (n - 1)){\n",
        "    for (j in (i + 1) : n){\n",
        "      if (x[j] < x[i]){\n",
        "        temp = x[i]\n",
        "        x[i] = x[j]\n",
        "        x[j] = temp\n",
        "      }\n",
        "    }\n",
        "  }\n",
        "  return(x)}\n",
        "dulieu = c(32, 17, 49, 98, 06, 25, 53, 61)\n",
        "selection_sort(dulieu)\n",
        "\n",
        "selfsort = function(x){\n",
        "  if (length(x)>1){\n",
        "    min = which.min(x)\n",
        "    c(x[min], selfsort(x[-min]))\n",
        "  }else x\n",
        "}\n",
        "selfsort(dulieu)"
      ],
      "execution_count": null,
      "outputs": []
    },
    {
      "cell_type": "markdown",
      "metadata": {
        "id": "WNNGs_o6b_w9"
      },
      "source": [
        "- bt 10:"
      ]
    },
    {
      "cell_type": "code",
      "metadata": {
        "colab": {
          "base_uri": "https://localhost:8080/"
        },
        "id": "MkGcDh3kb-5J",
        "outputId": "e016ae7a-f814-4173-888e-140c5709e1d7"
      },
      "source": [
        "class Node(object):\n",
        "    def __init__(self):\n",
        "        self.data = None # chứa dữ liệu\n",
        "        self.next = None # chứa dữ liệu cho các bước tiếp theo\n",
        "\n",
        "\n",
        "class LinkedList:\n",
        "    def __init__(self):\n",
        "        self.cur_node = None\n",
        "\n",
        "    def add_node(self, data):\n",
        "        new_node = Node() # tạo một nút mới\n",
        "        new_node.data = data\n",
        "        new_node.next = self.cur_node # liên kết nút mới với nút trước đó\n",
        "        self.cur_node = new_node #  đặt nút hiện tại thành nút mới\n",
        "\n",
        "    def list_print(self):\n",
        "        node = self.cur_node # cant point to ll!\n",
        "        while node:\n",
        "            print(node.data)\n",
        "            node = node.next\n",
        "\n",
        "\n",
        "\n",
        "ll = LinkedList()\n",
        "ll.add_node(6)\n",
        "ll.add_node(8)\n",
        "ll.add_node(39)\n",
        "\n",
        "ll.list_print()\n"
      ],
      "execution_count": 11,
      "outputs": [
        {
          "output_type": "stream",
          "text": [
            "39\n",
            "8\n",
            "6\n"
          ],
          "name": "stdout"
        }
      ]
    },
    {
      "cell_type": "markdown",
      "metadata": {
        "id": "35zb7leRcQg_"
      },
      "source": [
        "- bt 11:"
      ]
    },
    {
      "cell_type": "code",
      "metadata": {
        "colab": {
          "base_uri": "https://localhost:8080/"
        },
        "id": "py9xbWmEcPrb",
        "outputId": "209f0314-e912-40b1-872d-993a9d010216"
      },
      "source": [
        "# A simple Python program for traversal of a linked list \n",
        "  \n",
        "# Node class \n",
        "class Node: \n",
        "  \n",
        "    # Function to initialise the node object \n",
        "    def __init__(self, data): \n",
        "        self.data = data  # Assign data \n",
        "        self.next = None  # Initialize next as null \n",
        "  \n",
        "  \n",
        "# Linked List class contains a Node object \n",
        "class LinkedList: \n",
        "  \n",
        "    # Function to initialize head \n",
        "    def __init__(self): \n",
        "        self.head = None\n",
        "  \n",
        "    # This function prints contents of linked list \n",
        "    # starting from head \n",
        "    def printList(self): \n",
        "        temp = self.head \n",
        "        while (temp): \n",
        "            print (temp.data) \n",
        "            temp = temp.next\n",
        "  \n",
        "  \n",
        "# Code execution starts here \n",
        "if __name__=='__main__': \n",
        "  \n",
        "    # Start with the empty list \n",
        "    llist = LinkedList() \n",
        "  \n",
        "    llist.head = Node(1) \n",
        "    second = Node(2) \n",
        "    third = Node(3) \n",
        "  \n",
        "    llist.head.next = second; # Link first node with second \n",
        "    second.next = third; # Link second node with the third node \n",
        "  \n",
        "    llist.printList()"
      ],
      "execution_count": 12,
      "outputs": [
        {
          "output_type": "stream",
          "text": [
            "1\n",
            "2\n",
            "3\n"
          ],
          "name": "stdout"
        }
      ]
    }
  ]
}