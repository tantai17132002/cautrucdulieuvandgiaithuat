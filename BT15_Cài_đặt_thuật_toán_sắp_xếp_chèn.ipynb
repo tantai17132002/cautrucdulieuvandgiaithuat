{
  "nbformat": 4,
  "nbformat_minor": 0,
  "metadata": {
    "colab": {
      "name": "BT15: Cài đặt thuật toán sắp xếp chèn.ipynb",
      "provenance": [],
      "authorship_tag": "ABX9TyPifeg7oIVG42NLg9oYFt0k",
      "include_colab_link": true
    },
    "kernelspec": {
      "name": "python3",
      "display_name": "Python 3"
    },
    "language_info": {
      "name": "python"
    }
  },
  "cells": [
    {
      "cell_type": "markdown",
      "metadata": {
        "id": "view-in-github",
        "colab_type": "text"
      },
      "source": [
        "<a href=\"https://colab.research.google.com/github/tantai17132002/cautrucdulieuvandgiaithuat/blob/main/BT15_C%C3%A0i_%C4%91%E1%BA%B7t_thu%E1%BA%ADt_to%C3%A1n_s%E1%BA%AFp_x%E1%BA%BFp_ch%C3%A8n.ipynb\" target=\"_parent\"><img src=\"https://colab.research.google.com/assets/colab-badge.svg\" alt=\"Open In Colab\"/></a>"
      ]
    },
    {
      "cell_type": "code",
      "metadata": {
        "id": "eBR-BisV5hDb"
      },
      "source": [
        "#sap xep chen\n",
        "sort1 <- function(x) {\n",
        "  n <- length(x)\n",
        "  for (i in 2:n) {\n",
        "    temp <- x[i]\n",
        "    j = i-1\n",
        "  while ((x[i] > temp)&&(j>0)) {\n",
        "    x[j+1] = x[j]\n",
        "    j = j-1\n",
        "  } \n",
        "    x[j+1] = temp\n",
        "  }\n",
        "  return(x)\n",
        "}\n",
        "sort1(dulieu)"
      ],
      "execution_count": null,
      "outputs": []
    }
  ]
}