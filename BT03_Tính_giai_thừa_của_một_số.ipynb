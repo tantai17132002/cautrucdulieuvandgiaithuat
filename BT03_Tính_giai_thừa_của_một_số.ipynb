{
  "nbformat": 4,
  "nbformat_minor": 0,
  "metadata": {
    "colab": {
      "name": "BT03: Tính giai thừa của một số.ipynb",
      "provenance": [],
      "authorship_tag": "ABX9TyN7HXLOc1psg90NagYTyUlY",
      "include_colab_link": true
    },
    "kernelspec": {
      "name": "python3",
      "display_name": "Python 3"
    },
    "language_info": {
      "name": "python"
    }
  },
  "cells": [
    {
      "cell_type": "markdown",
      "metadata": {
        "id": "view-in-github",
        "colab_type": "text"
      },
      "source": [
        "<a href=\"https://colab.research.google.com/github/tantai17132002/cautrucdulieuvandgiaithuat/blob/main/BT03_T%C3%ADnh_giai_th%E1%BB%ABa_c%E1%BB%A7a_m%E1%BB%99t_s%E1%BB%91.ipynb\" target=\"_parent\"><img src=\"https://colab.research.google.com/assets/colab-badge.svg\" alt=\"Open In Colab\"/></a>"
      ]
    },
    {
      "cell_type": "code",
      "metadata": {
        "id": "MvOQ8Sceu7M0"
      },
      "source": [
        "def n_giai_thua(n):\n",
        "    s = 1;\n",
        "    if (n == 0 or n == 1):\n",
        "        return s;\n",
        "    else:\n",
        "        for i in range(2,n+1,1):\n",
        "            s = s * i;\n",
        "        return s;\n",
        " \n",
        "n = int(input(\"Nhập số nguyên dương n = \"));\n",
        "print( n,\"! = \",n_giai_thua(n));"
      ],
      "execution_count": null,
      "outputs": []
    }
  ]
}