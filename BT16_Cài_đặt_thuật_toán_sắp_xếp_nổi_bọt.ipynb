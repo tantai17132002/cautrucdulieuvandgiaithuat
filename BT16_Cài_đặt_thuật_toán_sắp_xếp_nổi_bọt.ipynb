{
  "nbformat": 4,
  "nbformat_minor": 0,
  "metadata": {
    "colab": {
      "name": "BT16: Cài đặt thuật toán sắp xếp nổi bọt.ipynb",
      "provenance": [],
      "authorship_tag": "ABX9TyNKxhw+AjpNkoEBPiH/7SeP",
      "include_colab_link": true
    },
    "kernelspec": {
      "name": "python3",
      "display_name": "Python 3"
    },
    "language_info": {
      "name": "python"
    }
  },
  "cells": [
    {
      "cell_type": "markdown",
      "metadata": {
        "id": "view-in-github",
        "colab_type": "text"
      },
      "source": [
        "<a href=\"https://colab.research.google.com/github/tantai17132002/cautrucdulieuvandgiaithuat/blob/main/BT16_C%C3%A0i_%C4%91%E1%BA%B7t_thu%E1%BA%ADt_to%C3%A1n_s%E1%BA%AFp_x%E1%BA%BFp_n%E1%BB%95i_b%E1%BB%8Dt.ipynb\" target=\"_parent\"><img src=\"https://colab.research.google.com/assets/colab-badge.svg\" alt=\"Open In Colab\"/></a>"
      ]
    },
    {
      "cell_type": "code",
      "metadata": {
        "id": "vmHsGjTC2Ard"
      },
      "source": [
        "bubble_sort = set.seed(1)\n",
        "dulieu = c(32, 17, 49, 98, 06, 25, 53, 61)\n",
        "example <- function(x)\n",
        "{\n",
        "  n <- length(x)\n",
        "  for (k in n:2)\n",
        "  {\n",
        "    i <- 1       \n",
        "    while (i < k)\n",
        "    {\n",
        "      if (x[i] > x[i+1])\n",
        "      {\n",
        "        temp <- x[i+1]\n",
        "        x[i+1] <- x[i]\n",
        "        x[i] <- temp\n",
        "      }\n",
        "      i <- i+1\n",
        "    }\n",
        "  }\n",
        "  x \n",
        "}\n",
        "\n",
        "example(dulieu)"
      ],
      "execution_count": null,
      "outputs": []
    }
  ]
}