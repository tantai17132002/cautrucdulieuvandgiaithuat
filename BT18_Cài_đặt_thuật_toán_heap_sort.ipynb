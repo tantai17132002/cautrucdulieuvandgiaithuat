{
  "nbformat": 4,
  "nbformat_minor": 0,
  "metadata": {
    "colab": {
      "name": "BT18: Cài đặt thuật toán heap sort.ipynb",
      "provenance": [],
      "authorship_tag": "ABX9TyOocVOR3JG2Zm38VTxm15vq",
      "include_colab_link": true
    },
    "kernelspec": {
      "name": "python3",
      "display_name": "Python 3"
    },
    "language_info": {
      "name": "python"
    }
  },
  "cells": [
    {
      "cell_type": "markdown",
      "metadata": {
        "id": "view-in-github",
        "colab_type": "text"
      },
      "source": [
        "<a href=\"https://colab.research.google.com/github/tantai17132002/cautrucdulieuvandgiaithuat/blob/main/BT18_C%C3%A0i_%C4%91%E1%BA%B7t_thu%E1%BA%ADt_to%C3%A1n_heap_sort.ipynb\" target=\"_parent\"><img src=\"https://colab.research.google.com/assets/colab-badge.svg\" alt=\"Open In Colab\"/></a>"
      ]
    },
    {
      "cell_type": "code",
      "metadata": {
        "id": "SCBCGuod2oxu"
      },
      "source": [
        "heapify <- function(array, n, i)\n",
        "{\n",
        "  parent <- i\n",
        "  leftChild <- 2 * (i - 1) + 1\n",
        "  rightChild <- 2 * (i - 1) + 2\n",
        "  \n",
        "  if ((leftChild < n) & (array[parent] < array[leftChild]))\n",
        "  {\n",
        "    parent <- leftChild\n",
        "  }\n",
        "  \n",
        "  if ((rightChild < n) & (array[parent] < array[rightChild]))\n",
        "  {\n",
        "    parent <- rightChild\n",
        "  }\n",
        "  \n",
        "  if (parent != i) {\n",
        "    array <- replace(array, c(i, parent), array[c(parent, i)])\n",
        "    array <- heapify(array, n, parent)\n",
        "  }\n",
        "  \n",
        "  array\n",
        "}\n",
        "\n",
        "heapSort <- function(array)\n",
        "{\n",
        "  n <- length(array)\n",
        "  \n",
        "  for (i in floor(n / 2):1) {\n",
        "    array <- heapify(array, n, i)\n",
        "  }\n",
        "  \n",
        "  for (i in n:1) {\n",
        "    array <- replace(array, c(i, 1), array[c(1, i)])\n",
        "    array <- heapify(array, i, 1)\n",
        "  }\n",
        "  \n",
        "  array\n",
        "}\n",
        "\n",
        "\n",
        "array <- c(32, 17, 49, 98, 6, 25, 53, 61)\n",
        "heapSort(array)"
      ],
      "execution_count": null,
      "outputs": []
    }
  ]
}