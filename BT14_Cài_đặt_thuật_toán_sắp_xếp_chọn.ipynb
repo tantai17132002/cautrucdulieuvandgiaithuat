{
  "nbformat": 4,
  "nbformat_minor": 0,
  "metadata": {
    "colab": {
      "name": "BT14: Cài đặt thuật toán sắp xếp chọn.ipynb",
      "provenance": [],
      "authorship_tag": "ABX9TyMghDEgpx3CgTE3wKfKRTed",
      "include_colab_link": true
    },
    "kernelspec": {
      "name": "python3",
      "display_name": "Python 3"
    },
    "language_info": {
      "name": "python"
    }
  },
  "cells": [
    {
      "cell_type": "markdown",
      "metadata": {
        "id": "view-in-github",
        "colab_type": "text"
      },
      "source": [
        "<a href=\"https://colab.research.google.com/github/tantai17132002/cautrucdulieuvandgiaithuat/blob/main/BT14_C%C3%A0i_%C4%91%E1%BA%B7t_thu%E1%BA%ADt_to%C3%A1n_s%E1%BA%AFp_x%E1%BA%BFp_ch%E1%BB%8Dn.ipynb\" target=\"_parent\"><img src=\"https://colab.research.google.com/assets/colab-badge.svg\" alt=\"Open In Colab\"/></a>"
      ]
    },
    {
      "cell_type": "code",
      "metadata": {
        "id": "cZsecixX1nix"
      },
      "source": [
        "selection_sort = function(x){\n",
        "  n = length(x)\n",
        "  for (i in 1 : (n - 1)){\n",
        "    for (j in (i + 1) : n){\n",
        "      if (x[j] < x[i]){\n",
        "        temp = x[i]\n",
        "        x[i] = x[j]\n",
        "        x[j] = temp\n",
        "      }\n",
        "    }\n",
        "  }\n",
        "  return(x)}\n",
        "dulieu = c(32, 17, 49, 98, 06, 25, 53, 61)\n",
        "selection_sort(dulieu)\n",
        "\n",
        "selfsort = function(x){\n",
        "  if (length(x)>1){\n",
        "    min = which.min(x)\n",
        "    c(x[min], selfsort(x[-min]))\n",
        "  }else x\n",
        "}\n",
        "selfsort(dulieu)"
      ],
      "execution_count": null,
      "outputs": []
    }
  ]
}