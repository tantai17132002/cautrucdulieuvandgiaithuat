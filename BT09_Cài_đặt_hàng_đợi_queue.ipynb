{
  "nbformat": 4,
  "nbformat_minor": 0,
  "metadata": {
    "colab": {
      "name": "BT09: Cài đặt hàng đợi - queue.ipynb",
      "provenance": [],
      "authorship_tag": "ABX9TyMBbYKakLSsTiZFHSJnqn3v",
      "include_colab_link": true
    },
    "kernelspec": {
      "name": "python3",
      "display_name": "Python 3"
    },
    "language_info": {
      "name": "python"
    }
  },
  "cells": [
    {
      "cell_type": "markdown",
      "metadata": {
        "id": "view-in-github",
        "colab_type": "text"
      },
      "source": [
        "<a href=\"https://colab.research.google.com/github/tantai17132002/cautrucdulieuvandgiaithuat/blob/main/BT09_C%C3%A0i_%C4%91%E1%BA%B7t_h%C3%A0ng_%C4%91%E1%BB%A3i_queue.ipynb\" target=\"_parent\"><img src=\"https://colab.research.google.com/assets/colab-badge.svg\" alt=\"Open In Colab\"/></a>"
      ]
    },
    {
      "cell_type": "code",
      "metadata": {
        "id": "0UX_zRJu5HY4"
      },
      "source": [
        "queue = []\n",
        " \n",
        "# Adding elements to the queue\n",
        "queue.append('a')\n",
        "queue.append('b')\n",
        "queue.append('c')\n",
        " \n",
        "print(\"Initial queue\")\n",
        "print(queue)\n",
        " \n",
        "# Removing elements from the queue\n",
        "print(\"\\nElements dequeued from queue\")\n",
        "print(queue.pop(0))\n",
        "print(queue.pop(0))\n",
        "print(queue.pop(0))\n",
        " \n",
        "print(\"\\nQueue after removing elements\")\n",
        "print(queue)"
      ],
      "execution_count": null,
      "outputs": []
    }
  ]
}