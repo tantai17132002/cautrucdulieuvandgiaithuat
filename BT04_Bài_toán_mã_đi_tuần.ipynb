{
  "nbformat": 4,
  "nbformat_minor": 0,
  "metadata": {
    "colab": {
      "name": "BT04: Bài toán mã đi tuần.ipynb",
      "provenance": [],
      "authorship_tag": "ABX9TyO5B+Y64uyQKbfjFhMgJLl5",
      "include_colab_link": true
    },
    "kernelspec": {
      "name": "python3",
      "display_name": "Python 3"
    },
    "language_info": {
      "name": "python"
    }
  },
  "cells": [
    {
      "cell_type": "markdown",
      "metadata": {
        "id": "view-in-github",
        "colab_type": "text"
      },
      "source": [
        "<a href=\"https://colab.research.google.com/github/tantai17132002/cautrucdulieuvandgiaithuat/blob/main/BT04_B%C3%A0i_to%C3%A1n_m%C3%A3_%C4%91i_tu%E1%BA%A7n.ipynb\" target=\"_parent\"><img src=\"https://colab.research.google.com/assets/colab-badge.svg\" alt=\"Open In Colab\"/></a>"
      ]
    },
    {
      "cell_type": "code",
      "metadata": {
        "colab": {
          "base_uri": "https://localhost:8080/"
        },
        "id": "xGRomAnBvXjO",
        "outputId": "acc740a7-ee8a-4116-83d1-d031f8b8fe3e"
      },
      "source": [
        "n = int(input('Ti le n ='))\n",
        " \n",
        " \n",
        "def isSafe(x, y, board):\n",
        "    if(x >= 0 and y >= 0 and x < n and y < n and board[x][y] == -1):\n",
        "        return True\n",
        "    return False\n",
        " \n",
        " \n",
        "def printSolution(n, board):\n",
        "    for i in range(n):\n",
        "        for j in range(n):\n",
        "            print(board[i][j], end=' ')\n",
        "        print()\n",
        " \n",
        " \n",
        "def solveKT(n):\n",
        "    board = [[-1 for i in range(n)]for i in range(n)]\n",
        "    move_x = [2, 1, -1, -2, -2, -1, 1, 2]\n",
        "    move_y = [1, 2, 2, 1, -1, -2, -2, -1]\n",
        "    board[0][0] = 0\n",
        "    pos = 1\n",
        "    if(not solveKTUtil(n, board, 0, 0, move_x, move_y, pos)):\n",
        "        print(\"Solution does not exist\")\n",
        "    else:\n",
        "        printSolution(n, board)\n",
        " \n",
        " \n",
        "def solveKTUtil(n, board, curr_x, curr_y, move_x, move_y, pos):\n",
        "    if(pos == n**2):\n",
        "        return True\n",
        "    for i in range(8):\n",
        "        new_x = curr_x + move_x[i]\n",
        "        new_y = curr_y + move_y[i]\n",
        "        if(isSafe(new_x, new_y, board)):\n",
        "            board[new_x][new_y] = pos\n",
        "            if(solveKTUtil(n, board, new_x, new_y, move_x, move_y, pos+1)):\n",
        "                return True\n",
        "            board[new_x][new_y] = -1\n",
        "    return False\n",
        " \n",
        " \n",
        "solveKT(n)"
      ],
      "execution_count": 3,
      "outputs": [
        {
          "output_type": "stream",
          "text": [
            "Ti le n =5\n",
            "0 5 14 9 20 \n",
            "13 8 19 4 15 \n",
            "18 1 6 21 10 \n",
            "7 12 23 16 3 \n",
            "24 17 2 11 22 \n"
          ],
          "name": "stdout"
        }
      ]
    }
  ]
}